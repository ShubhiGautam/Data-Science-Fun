{
 "cells": [
  {
   "cell_type": "code",
   "execution_count": 1,
   "metadata": {},
   "outputs": [
    {
     "data": {
      "text/html": [
       "<div>\n",
       "<style scoped>\n",
       "    .dataframe tbody tr th:only-of-type {\n",
       "        vertical-align: middle;\n",
       "    }\n",
       "\n",
       "    .dataframe tbody tr th {\n",
       "        vertical-align: top;\n",
       "    }\n",
       "\n",
       "    .dataframe thead th {\n",
       "        text-align: right;\n",
       "    }\n",
       "</style>\n",
       "<table border=\"1\" class=\"dataframe\">\n",
       "  <thead>\n",
       "    <tr style=\"text-align: right;\">\n",
       "      <th></th>\n",
       "      <th>Unnamed: 0</th>\n",
       "      <th>users_id</th>\n",
       "      <th>Book.Title</th>\n",
       "      <th>Book.Author</th>\n",
       "      <th>Publisher</th>\n",
       "      <th>ratings[, 3]</th>\n",
       "    </tr>\n",
       "  </thead>\n",
       "  <tbody>\n",
       "    <tr>\n",
       "      <td>0</td>\n",
       "      <td>1</td>\n",
       "      <td>1</td>\n",
       "      <td>Classical Mythology</td>\n",
       "      <td>Mark P. O. Morford</td>\n",
       "      <td>Oxford University Press</td>\n",
       "      <td>0</td>\n",
       "    </tr>\n",
       "    <tr>\n",
       "      <td>1</td>\n",
       "      <td>2</td>\n",
       "      <td>2</td>\n",
       "      <td>Clara Callan</td>\n",
       "      <td>Richard Bruce Wright</td>\n",
       "      <td>HarperFlamingo Canada</td>\n",
       "      <td>5</td>\n",
       "    </tr>\n",
       "    <tr>\n",
       "      <td>2</td>\n",
       "      <td>3</td>\n",
       "      <td>3</td>\n",
       "      <td>Decision in Normandy</td>\n",
       "      <td>Carlo D'Este</td>\n",
       "      <td>HarperPerennial</td>\n",
       "      <td>0</td>\n",
       "    </tr>\n",
       "    <tr>\n",
       "      <td>3</td>\n",
       "      <td>4</td>\n",
       "      <td>4</td>\n",
       "      <td>Flu: The Story of the Great Influenza Pandemic...</td>\n",
       "      <td>Gina Bari Kolata</td>\n",
       "      <td>Farrar Straus Giroux</td>\n",
       "      <td>3</td>\n",
       "    </tr>\n",
       "    <tr>\n",
       "      <td>4</td>\n",
       "      <td>5</td>\n",
       "      <td>5</td>\n",
       "      <td>The Mummies of Urumchi</td>\n",
       "      <td>E. J. W. Barber</td>\n",
       "      <td>W. W. Norton &amp;amp; Company</td>\n",
       "      <td>6</td>\n",
       "    </tr>\n",
       "  </tbody>\n",
       "</table>\n",
       "</div>"
      ],
      "text/plain": [
       "   Unnamed: 0  users_id                                         Book.Title  \\\n",
       "0           1         1                                Classical Mythology   \n",
       "1           2         2                                       Clara Callan   \n",
       "2           3         3                               Decision in Normandy   \n",
       "3           4         4  Flu: The Story of the Great Influenza Pandemic...   \n",
       "4           5         5                             The Mummies of Urumchi   \n",
       "\n",
       "            Book.Author                   Publisher  ratings[, 3]  \n",
       "0    Mark P. O. Morford     Oxford University Press             0  \n",
       "1  Richard Bruce Wright       HarperFlamingo Canada             5  \n",
       "2          Carlo D'Este             HarperPerennial             0  \n",
       "3      Gina Bari Kolata        Farrar Straus Giroux             3  \n",
       "4       E. J. W. Barber  W. W. Norton &amp; Company             6  "
      ]
     },
     "execution_count": 1,
     "metadata": {},
     "output_type": "execute_result"
    }
   ],
   "source": [
    "import pandas as pd\n",
    "data=pd.read_csv(\"C:/Users/Rajesh/Documents/me/data_assignments/mod16/book.csv\", encoding='latin-1')\n",
    "data.head()"
   ]
  },
  {
   "cell_type": "code",
   "execution_count": 2,
   "metadata": {},
   "outputs": [
    {
     "data": {
      "text/plain": [
       "Index(['Unnamed: 0', 'users_id', 'Book.Title', 'Book.Author', 'Publisher',\n",
       "       'ratings[, 3]'],\n",
       "      dtype='object')"
      ]
     },
     "execution_count": 2,
     "metadata": {},
     "output_type": "execute_result"
    }
   ],
   "source": [
    "#EDA\n",
    "data.shape\n",
    "data.dtypes\n",
    "data.isna()\n",
    "data.describe()\n",
    "data.corr()\n",
    "data.columns"
   ]
  },
  {
   "cell_type": "code",
   "execution_count": 3,
   "metadata": {},
   "outputs": [
    {
     "data": {
      "text/plain": [
       "Index(['Unnamed: 0', 'users_id', 'book_title', 'Book.Author', 'Publisher',\n",
       "       'ratings[, 3]'],\n",
       "      dtype='object')"
      ]
     },
     "execution_count": 3,
     "metadata": {},
     "output_type": "execute_result"
    }
   ],
   "source": [
    "# change column names\n",
    "book_data= data.rename(columns = {\"Col_1\":\"Mod_col\"}) \n",
    "book_data = data.rename(columns = {\"Book.Title\":\"book_title\"})\n",
    "book_data.columns"
   ]
  },
  {
   "cell_type": "code",
   "execution_count": 4,
   "metadata": {},
   "outputs": [
    {
     "data": {
      "text/plain": [
       "Index(['users_id', 'book_title', 'Book.Author', 'Publisher', 'ratings[, 3]'], dtype='object')"
      ]
     },
     "execution_count": 4,
     "metadata": {},
     "output_type": "execute_result"
    }
   ],
   "source": [
    "book_data = book_data.iloc[:,1:]\n",
    "book_data.columns"
   ]
  },
  {
   "cell_type": "code",
   "execution_count": 5,
   "metadata": {},
   "outputs": [],
   "source": [
    "\n",
    "from sklearn.feature_extraction.text import TfidfVectorizer #term frequencey- inverse document frequncy is a numerical statistic that is intended to reflect how important a word is to document in a collecion or corpus\n",
    "\n",
    "# Creating a Tfidf Vectorizer to remove all stop words\n",
    "tfidf = TfidfVectorizer(stop_words=\"english\")    #taking stop words from tfid vectorizer"
   ]
  },
  {
   "cell_type": "code",
   "execution_count": 6,
   "metadata": {},
   "outputs": [
    {
     "data": {
      "text/plain": [
       "0"
      ]
     },
     "execution_count": 6,
     "metadata": {},
     "output_type": "execute_result"
    }
   ],
   "source": [
    "book_data[\"book_title\"].isnull().sum() \n"
   ]
  },
  {
   "cell_type": "code",
   "execution_count": 7,
   "metadata": {},
   "outputs": [
    {
     "data": {
      "text/plain": [
       "(5000, 10990)"
      ]
     },
     "execution_count": 7,
     "metadata": {},
     "output_type": "execute_result"
    }
   ],
   "source": [
    "\n",
    "tfidf_matrix = tfidf.fit_transform(book_data[\"book_title\"])   #Transform a count matrix to a normalized tf or tf-idf representation\n",
    "tfidf_matrix.shape #(5000, 10990)"
   ]
  },
  {
   "cell_type": "code",
   "execution_count": 8,
   "metadata": {},
   "outputs": [],
   "source": [
    "from sklearn.metrics.pairwise import linear_kernel\n",
    "\n",
    "# Computing the cosine similarity on Tfidf matrix\n",
    "cosine_sim_matrix = linear_kernel(tfidf_matrix,tfidf_matrix)"
   ]
  },
  {
   "cell_type": "code",
   "execution_count": 9,
   "metadata": {},
   "outputs": [],
   "source": [
    "\n",
    "# creating a mapping of anime name to index number \n",
    "book_index = pd.Series(book_data.index,index=book_data['book_title']).drop_duplicates()\n",
    "\n"
   ]
  },
  {
   "cell_type": "code",
   "execution_count": 10,
   "metadata": {},
   "outputs": [],
   "source": [
    "def get_book_recommendations(book_title,topN=10): \n",
    "    book_id = book_index[book_title] \n",
    "    cosine_scores = list(enumerate(cosine_sim_matrix[book_id])) \n",
    "    cosine_scores = sorted(cosine_scores,key=lambda x:x[1],reverse = True)\n",
    "    cosine_scores_10 = cosine_scores[0:topN+1]\n",
    "    book_idx  =  [i[0] for i in cosine_scores_10]\n",
    "    book_scores =  [i[1] for i in cosine_scores_10]\n",
    "    book_similar_show = pd.DataFrame(columns=[\"Title\",\"Score\"])\n",
    "    book_similar_show[\"Title\"] = book_data.loc[book_idx,\"book_title\"]\n",
    "    book_similar_show[\"Score\"] = book_scores\n",
    "    book_similar_show.reset_index(inplace=True)  \n",
    "    book_similar_show.drop([\"index\"],axis=1,inplace=True)\n",
    "    print (book_similar_show)"
   ]
  },
  {
   "cell_type": "code",
   "execution_count": 11,
   "metadata": {},
   "outputs": [
    {
     "name": "stdout",
     "output_type": "stream",
     "text": [
      "                                                Title     Score\n",
      "0                                     PLEADING GUILTY  1.000000\n",
      "1                                     Pleading Guilty  1.000000\n",
      "2                                       Guilty as Sin  0.487075\n",
      "3   Guilty Pleasures (Anita Blake Vampire Hunter (...  0.270672\n",
      "4    Whiteside Limited;http://images.amazon.com/im...  0.001974\n",
      "5                                 Classical Mythology  0.000000\n",
      "6                                        Clara Callan  0.000000\n",
      "7                                Decision in Normandy  0.000000\n",
      "8   Flu: The Story of the Great Influenza Pandemic...  0.000000\n",
      "9                              The Mummies of Urumchi  0.000000\n",
      "10                             The Kitchen God's Wife  0.000000\n",
      "11  What If?: The World's Foremost Military Histor...  0.000000\n",
      "12  Under the Black Flag: The Romance and the Real...  0.000000\n",
      "13            Where You'll Find Me: And Other Stories  0.000000\n",
      "14                        Nights Below Station Street  0.000000\n",
      "15  Hitler's Secret Bankers: The Myth of Swiss Neu...  0.000000\n"
     ]
    }
   ],
   "source": [
    "get_book_recommendations(\"PLEADING GUILTY\",topN=15)"
   ]
  }
 ],
 "metadata": {
  "kernelspec": {
   "display_name": "Python 3",
   "language": "python",
   "name": "python3"
  },
  "language_info": {
   "codemirror_mode": {
    "name": "ipython",
    "version": 3
   },
   "file_extension": ".py",
   "mimetype": "text/x-python",
   "name": "python",
   "nbconvert_exporter": "python",
   "pygments_lexer": "ipython3",
   "version": "3.7.4"
  }
 },
 "nbformat": 4,
 "nbformat_minor": 4
}
