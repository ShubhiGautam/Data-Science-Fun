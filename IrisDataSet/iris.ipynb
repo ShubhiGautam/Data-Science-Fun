{
 "cells": [
  {
   "cell_type": "code",
   "execution_count": 25,
   "metadata": {},
   "outputs": [],
   "source": [
    "import pandas as pd\n",
    "from sklearn.preprocessing import LabelEncoder\n",
    "from sklearn.linear_model import LogisticRegression\n",
    "from sklearn.model_selection import train_test_split\n",
    "from sklearn.metrics import accuracy_score"
   ]
  },
  {
   "cell_type": "code",
   "execution_count": 48,
   "metadata": {},
   "outputs": [
    {
     "name": "stdout",
     "output_type": "stream",
     "text": [
      "Accuracy of the model 0.9666666666666667\n"
     ]
    },
    {
     "name": "stderr",
     "output_type": "stream",
     "text": [
      "C:\\Users\\Rajesh\\Anaconda3\\lib\\site-packages\\sklearn\\linear_model\\logistic.py:432: FutureWarning: Default solver will be changed to 'lbfgs' in 0.22. Specify a solver to silence this warning.\n",
      "  FutureWarning)\n",
      "C:\\Users\\Rajesh\\Anaconda3\\lib\\site-packages\\sklearn\\linear_model\\logistic.py:469: FutureWarning: Default multi_class will be changed to 'auto' in 0.22. Specify the multi_class option to silence this warning.\n",
      "  \"this warning.\", FutureWarning)\n"
     ]
    }
   ],
   "source": [
    "data = pd.read_csv('iris.csv')\n",
    "\n",
    "#encoding the levels of categorical features into numerical values\n",
    "encode = LabelEncoder()\n",
    "data.Species = encode.fit_transform(data.Species)\n",
    "\n",
    "#random state ensures that the splits i generate are reproducible\n",
    "train, test = train_test_split(data,test_size = 0.2, random_state=0)\n",
    "\n",
    "#print(train.shape)\n",
    "#print(test.shape)\n",
    "\n",
    "\n",
    "#separating the independent variable and the target\n",
    "train_x = train.drop(columns=['Species'], axis=1)\n",
    "train_y = train['Species']\n",
    "\n",
    "test_x = test.drop(columns=['Species'], axis=1)\n",
    "test_y = test['Species']\n",
    "\n",
    "#creating object of my model\n",
    "\n",
    "model = LogisticRegression()\n",
    "\n",
    "model.fit(train_x,train_y)\n",
    "predict = model.predict(test_x)\n",
    "\n",
    "#Transform labels back to the original encoding\n",
    "encode.inverse_transform(predict)\n",
    "\n",
    "#checking the accuracy of the model\n",
    "\n",
    "print(\"Accuracy of the model\", accuracy_score(test_y,predict))\n",
    "\n"
   ]
  }
 ],
 "metadata": {
  "kernelspec": {
   "display_name": "Python 3",
   "language": "python",
   "name": "python3"
  },
  "language_info": {
   "codemirror_mode": {
    "name": "ipython",
    "version": 3
   },
   "file_extension": ".py",
   "mimetype": "text/x-python",
   "name": "python",
   "nbconvert_exporter": "python",
   "pygments_lexer": "ipython3",
   "version": "3.7.4"
  }
 },
 "nbformat": 4,
 "nbformat_minor": 4
}
