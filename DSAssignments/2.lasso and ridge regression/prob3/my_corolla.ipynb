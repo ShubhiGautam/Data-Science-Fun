{
 "cells": [
  {
   "cell_type": "code",
   "execution_count": 3,
   "metadata": {},
   "outputs": [
    {
     "data": {
      "text/html": [
       "<div>\n",
       "<style scoped>\n",
       "    .dataframe tbody tr th:only-of-type {\n",
       "        vertical-align: middle;\n",
       "    }\n",
       "\n",
       "    .dataframe tbody tr th {\n",
       "        vertical-align: top;\n",
       "    }\n",
       "\n",
       "    .dataframe thead th {\n",
       "        text-align: right;\n",
       "    }\n",
       "</style>\n",
       "<table border=\"1\" class=\"dataframe\">\n",
       "  <thead>\n",
       "    <tr style=\"text-align: right;\">\n",
       "      <th></th>\n",
       "      <th>Id</th>\n",
       "      <th>Model</th>\n",
       "      <th>Price</th>\n",
       "      <th>Age_08_04</th>\n",
       "      <th>Mfg_Month</th>\n",
       "      <th>Mfg_Year</th>\n",
       "      <th>KM</th>\n",
       "      <th>Fuel_Type</th>\n",
       "      <th>HP</th>\n",
       "      <th>Met_Color</th>\n",
       "      <th>...</th>\n",
       "      <th>Central_Lock</th>\n",
       "      <th>Powered_Windows</th>\n",
       "      <th>Power_Steering</th>\n",
       "      <th>Radio</th>\n",
       "      <th>Mistlamps</th>\n",
       "      <th>Sport_Model</th>\n",
       "      <th>Backseat_Divider</th>\n",
       "      <th>Metallic_Rim</th>\n",
       "      <th>Radio_cassette</th>\n",
       "      <th>Tow_Bar</th>\n",
       "    </tr>\n",
       "  </thead>\n",
       "  <tbody>\n",
       "    <tr>\n",
       "      <td>0</td>\n",
       "      <td>1</td>\n",
       "      <td>TOYOTA Corolla 2.0 D4D HATCHB TERRA 2/3-Doors</td>\n",
       "      <td>13500</td>\n",
       "      <td>23</td>\n",
       "      <td>10</td>\n",
       "      <td>2002</td>\n",
       "      <td>46986</td>\n",
       "      <td>Diesel</td>\n",
       "      <td>90</td>\n",
       "      <td>1</td>\n",
       "      <td>...</td>\n",
       "      <td>1</td>\n",
       "      <td>1</td>\n",
       "      <td>1</td>\n",
       "      <td>0</td>\n",
       "      <td>0</td>\n",
       "      <td>0</td>\n",
       "      <td>1</td>\n",
       "      <td>0</td>\n",
       "      <td>0</td>\n",
       "      <td>0</td>\n",
       "    </tr>\n",
       "    <tr>\n",
       "      <td>1</td>\n",
       "      <td>2</td>\n",
       "      <td>TOYOTA Corolla 2.0 D4D HATCHB TERRA 2/3-Doors</td>\n",
       "      <td>13750</td>\n",
       "      <td>23</td>\n",
       "      <td>10</td>\n",
       "      <td>2002</td>\n",
       "      <td>72937</td>\n",
       "      <td>Diesel</td>\n",
       "      <td>90</td>\n",
       "      <td>1</td>\n",
       "      <td>...</td>\n",
       "      <td>1</td>\n",
       "      <td>0</td>\n",
       "      <td>1</td>\n",
       "      <td>0</td>\n",
       "      <td>0</td>\n",
       "      <td>0</td>\n",
       "      <td>1</td>\n",
       "      <td>0</td>\n",
       "      <td>0</td>\n",
       "      <td>0</td>\n",
       "    </tr>\n",
       "    <tr>\n",
       "      <td>2</td>\n",
       "      <td>3</td>\n",
       "      <td>TOYOTA Corolla 2.0 D4D HATCHB TERRA 2/3-Doors</td>\n",
       "      <td>13950</td>\n",
       "      <td>24</td>\n",
       "      <td>9</td>\n",
       "      <td>2002</td>\n",
       "      <td>41711</td>\n",
       "      <td>Diesel</td>\n",
       "      <td>90</td>\n",
       "      <td>1</td>\n",
       "      <td>...</td>\n",
       "      <td>0</td>\n",
       "      <td>0</td>\n",
       "      <td>1</td>\n",
       "      <td>0</td>\n",
       "      <td>0</td>\n",
       "      <td>0</td>\n",
       "      <td>1</td>\n",
       "      <td>0</td>\n",
       "      <td>0</td>\n",
       "      <td>0</td>\n",
       "    </tr>\n",
       "    <tr>\n",
       "      <td>3</td>\n",
       "      <td>4</td>\n",
       "      <td>TOYOTA Corolla 2.0 D4D HATCHB TERRA 2/3-Doors</td>\n",
       "      <td>14950</td>\n",
       "      <td>26</td>\n",
       "      <td>7</td>\n",
       "      <td>2002</td>\n",
       "      <td>48000</td>\n",
       "      <td>Diesel</td>\n",
       "      <td>90</td>\n",
       "      <td>0</td>\n",
       "      <td>...</td>\n",
       "      <td>0</td>\n",
       "      <td>0</td>\n",
       "      <td>1</td>\n",
       "      <td>0</td>\n",
       "      <td>0</td>\n",
       "      <td>0</td>\n",
       "      <td>1</td>\n",
       "      <td>0</td>\n",
       "      <td>0</td>\n",
       "      <td>0</td>\n",
       "    </tr>\n",
       "    <tr>\n",
       "      <td>4</td>\n",
       "      <td>5</td>\n",
       "      <td>TOYOTA Corolla 2.0 D4D HATCHB SOL 2/3-Doors</td>\n",
       "      <td>13750</td>\n",
       "      <td>30</td>\n",
       "      <td>3</td>\n",
       "      <td>2002</td>\n",
       "      <td>38500</td>\n",
       "      <td>Diesel</td>\n",
       "      <td>90</td>\n",
       "      <td>0</td>\n",
       "      <td>...</td>\n",
       "      <td>1</td>\n",
       "      <td>1</td>\n",
       "      <td>1</td>\n",
       "      <td>0</td>\n",
       "      <td>1</td>\n",
       "      <td>0</td>\n",
       "      <td>1</td>\n",
       "      <td>0</td>\n",
       "      <td>0</td>\n",
       "      <td>0</td>\n",
       "    </tr>\n",
       "  </tbody>\n",
       "</table>\n",
       "<p>5 rows × 38 columns</p>\n",
       "</div>"
      ],
      "text/plain": [
       "   Id                                           Model  Price  Age_08_04  \\\n",
       "0   1   TOYOTA Corolla 2.0 D4D HATCHB TERRA 2/3-Doors  13500         23   \n",
       "1   2   TOYOTA Corolla 2.0 D4D HATCHB TERRA 2/3-Doors  13750         23   \n",
       "2   3   TOYOTA Corolla 2.0 D4D HATCHB TERRA 2/3-Doors  13950         24   \n",
       "3   4   TOYOTA Corolla 2.0 D4D HATCHB TERRA 2/3-Doors  14950         26   \n",
       "4   5     TOYOTA Corolla 2.0 D4D HATCHB SOL 2/3-Doors  13750         30   \n",
       "\n",
       "   Mfg_Month  Mfg_Year     KM Fuel_Type  HP  Met_Color  ... Central_Lock  \\\n",
       "0         10      2002  46986    Diesel  90          1  ...            1   \n",
       "1         10      2002  72937    Diesel  90          1  ...            1   \n",
       "2          9      2002  41711    Diesel  90          1  ...            0   \n",
       "3          7      2002  48000    Diesel  90          0  ...            0   \n",
       "4          3      2002  38500    Diesel  90          0  ...            1   \n",
       "\n",
       "   Powered_Windows  Power_Steering  Radio  Mistlamps  Sport_Model  \\\n",
       "0                1               1      0          0            0   \n",
       "1                0               1      0          0            0   \n",
       "2                0               1      0          0            0   \n",
       "3                0               1      0          0            0   \n",
       "4                1               1      0          1            0   \n",
       "\n",
       "   Backseat_Divider  Metallic_Rim  Radio_cassette  Tow_Bar  \n",
       "0                 1             0               0        0  \n",
       "1                 1             0               0        0  \n",
       "2                 1             0               0        0  \n",
       "3                 1             0               0        0  \n",
       "4                 1             0               0        0  \n",
       "\n",
       "[5 rows x 38 columns]"
      ]
     },
     "execution_count": 3,
     "metadata": {},
     "output_type": "execute_result"
    }
   ],
   "source": [
    "import pandas as pd\n",
    "import matplotlib.pyplot as plt\n",
    "corolla=pd.read_excel(\"corolla.xlsx\")\n",
    "corolla.head()"
   ]
  },
  {
   "cell_type": "code",
   "execution_count": 11,
   "metadata": {},
   "outputs": [
    {
     "data": {
      "image/png": "[encoded data removed]",
      "text/plain": [
       "<Figure size 432x288 with 1 Axes>"
      ]
     },
     "metadata": {
      "needs_background": "light"
     },
     "output_type": "display_data"
    },
    {
     "data": {
      "image/png": "[encoded data removed]",
      "text/plain": [
       "<Figure size 432x288 with 1 Axes>"
      ]
     },
     "metadata": {
      "needs_background": "light"
     },
     "output_type": "display_data"
    },
    {
     "data": {
      "image/png": "[encoded data removed]",
      "text/plain": [
       "<Figure size 432x288 with 1 Axes>"
      ]
     },
     "metadata": {
      "needs_background": "light"
     },
     "output_type": "display_data"
    },
    {
     "data": {
      "image/png": "[encoded data removed]",
      "text/plain": [
       "<Figure size 432x288 with 1 Axes>"
      ]
     },
     "metadata": {
      "needs_background": "light"
     },
     "output_type": "display_data"
    },
    {
     "data": {
      "image/png": "[encoded data removed]",
      "text/plain": [
       "<Figure size 432x288 with 1 Axes>"
      ]
     },
     "metadata": {
      "needs_background": "light"
     },
     "output_type": "display_data"
    },
    {
     "data": {
      "image/png": "[encoded data removed]",
      "text/plain": [
       "<Figure size 432x288 with 1 Axes>"
      ]
     },
     "metadata": {
      "needs_background": "light"
     },
     "output_type": "display_data"
    },
    {
     "data": {
      "image/png": "[encoded data removed]",
      "text/plain": [
       "<Figure size 432x288 with 1 Axes>"
      ]
     },
     "metadata": {
      "needs_background": "light"
     },
     "output_type": "display_data"
    },
    {
     "data": {
      "image/png": "[encoded data removed]",
      "text/plain": [
       "<Figure size 432x288 with 1 Axes>"
      ]
     },
     "metadata": {
      "needs_background": "light"
     },
     "output_type": "display_data"
    }
   ],
   "source": [
    "#EDA\n",
    "corolla.shape\n",
    "corolla.dtypes\n",
    "corolla.isna\n",
    "corolla.describe()\n",
    "# only looking at the variables that we need\n",
    "plt.scatter(x=corolla['Age_08_04'],y=corolla['Price'],color=\"brown\")\n",
    "plt.show()\n",
    "plt.scatter(x=corolla['KM'],y=corolla['Price'],color=\"brown\")\n",
    "plt.show()\n",
    "plt.scatter(x=corolla['HP'],y=corolla['Price'],color=\"brown\")\n",
    "plt.show()\n",
    "plt.scatter(x=corolla['cc'],y=corolla['Price'],color=\"brown\")\n",
    "plt.show()\n",
    "plt.scatter(x=corolla['Doors'],y=corolla['Price'],color=\"brown\")\n",
    "plt.show()\n",
    "plt.scatter(x=corolla['Gears'],y=corolla['Price'],color=\"brown\")\n",
    "plt.show()\n",
    "plt.scatter(x=corolla['Quarterly_Tax'],y=corolla['Price'],color=\"brown\")\n",
    "plt.show()\n",
    "plt.scatter(x=corolla['Weight'],y=corolla['Price'],color=\"brown\")\n",
    "plt.show()"
   ]
  },
  {
   "cell_type": "code",
   "execution_count": 4,
   "metadata": {},
   "outputs": [
    {
     "data": {
      "text/html": [
       "<div>\n",
       "<style scoped>\n",
       "    .dataframe tbody tr th:only-of-type {\n",
       "        vertical-align: middle;\n",
       "    }\n",
       "\n",
       "    .dataframe tbody tr th {\n",
       "        vertical-align: top;\n",
       "    }\n",
       "\n",
       "    .dataframe thead th {\n",
       "        text-align: right;\n",
       "    }\n",
       "</style>\n",
       "<table border=\"1\" class=\"dataframe\">\n",
       "  <thead>\n",
       "    <tr style=\"text-align: right;\">\n",
       "      <th></th>\n",
       "      <th>Price</th>\n",
       "      <th>Age_08_04</th>\n",
       "      <th>KM</th>\n",
       "      <th>HP</th>\n",
       "      <th>Quarterly_Tax</th>\n",
       "      <th>Weight</th>\n",
       "      <th>Automatic_airco</th>\n",
       "      <th>Guarantee_Period</th>\n",
       "      <th>Powered_Windows</th>\n",
       "    </tr>\n",
       "  </thead>\n",
       "  <tbody>\n",
       "    <tr>\n",
       "      <td>count</td>\n",
       "      <td>1436.000000</td>\n",
       "      <td>1436.000000</td>\n",
       "      <td>1436.000000</td>\n",
       "      <td>1436.000000</td>\n",
       "      <td>1436.000000</td>\n",
       "      <td>1436.00000</td>\n",
       "      <td>1436.000000</td>\n",
       "      <td>1436.000000</td>\n",
       "      <td>1436.000000</td>\n",
       "    </tr>\n",
       "    <tr>\n",
       "      <td>mean</td>\n",
       "      <td>10730.824513</td>\n",
       "      <td>55.947075</td>\n",
       "      <td>68533.259749</td>\n",
       "      <td>101.502089</td>\n",
       "      <td>87.122563</td>\n",
       "      <td>1072.45961</td>\n",
       "      <td>0.056407</td>\n",
       "      <td>3.815460</td>\n",
       "      <td>0.561978</td>\n",
       "    </tr>\n",
       "    <tr>\n",
       "      <td>std</td>\n",
       "      <td>3626.964585</td>\n",
       "      <td>18.599988</td>\n",
       "      <td>37506.448872</td>\n",
       "      <td>14.981080</td>\n",
       "      <td>41.128611</td>\n",
       "      <td>52.64112</td>\n",
       "      <td>0.230786</td>\n",
       "      <td>3.011025</td>\n",
       "      <td>0.496317</td>\n",
       "    </tr>\n",
       "    <tr>\n",
       "      <td>min</td>\n",
       "      <td>4350.000000</td>\n",
       "      <td>1.000000</td>\n",
       "      <td>1.000000</td>\n",
       "      <td>69.000000</td>\n",
       "      <td>19.000000</td>\n",
       "      <td>1000.00000</td>\n",
       "      <td>0.000000</td>\n",
       "      <td>3.000000</td>\n",
       "      <td>0.000000</td>\n",
       "    </tr>\n",
       "    <tr>\n",
       "      <td>25%</td>\n",
       "      <td>8450.000000</td>\n",
       "      <td>44.000000</td>\n",
       "      <td>43000.000000</td>\n",
       "      <td>90.000000</td>\n",
       "      <td>69.000000</td>\n",
       "      <td>1040.00000</td>\n",
       "      <td>0.000000</td>\n",
       "      <td>3.000000</td>\n",
       "      <td>0.000000</td>\n",
       "    </tr>\n",
       "    <tr>\n",
       "      <td>50%</td>\n",
       "      <td>9900.000000</td>\n",
       "      <td>61.000000</td>\n",
       "      <td>63389.500000</td>\n",
       "      <td>110.000000</td>\n",
       "      <td>85.000000</td>\n",
       "      <td>1070.00000</td>\n",
       "      <td>0.000000</td>\n",
       "      <td>3.000000</td>\n",
       "      <td>1.000000</td>\n",
       "    </tr>\n",
       "    <tr>\n",
       "      <td>75%</td>\n",
       "      <td>11950.000000</td>\n",
       "      <td>70.000000</td>\n",
       "      <td>87020.750000</td>\n",
       "      <td>110.000000</td>\n",
       "      <td>85.000000</td>\n",
       "      <td>1085.00000</td>\n",
       "      <td>0.000000</td>\n",
       "      <td>3.000000</td>\n",
       "      <td>1.000000</td>\n",
       "    </tr>\n",
       "    <tr>\n",
       "      <td>max</td>\n",
       "      <td>32500.000000</td>\n",
       "      <td>80.000000</td>\n",
       "      <td>243000.000000</td>\n",
       "      <td>192.000000</td>\n",
       "      <td>283.000000</td>\n",
       "      <td>1615.00000</td>\n",
       "      <td>1.000000</td>\n",
       "      <td>36.000000</td>\n",
       "      <td>1.000000</td>\n",
       "    </tr>\n",
       "  </tbody>\n",
       "</table>\n",
       "</div>"
      ],
      "text/plain": [
       "              Price    Age_08_04             KM           HP  Quarterly_Tax  \\\n",
       "count   1436.000000  1436.000000    1436.000000  1436.000000    1436.000000   \n",
       "mean   10730.824513    55.947075   68533.259749   101.502089      87.122563   \n",
       "std     3626.964585    18.599988   37506.448872    14.981080      41.128611   \n",
       "min     4350.000000     1.000000       1.000000    69.000000      19.000000   \n",
       "25%     8450.000000    44.000000   43000.000000    90.000000      69.000000   \n",
       "50%     9900.000000    61.000000   63389.500000   110.000000      85.000000   \n",
       "75%    11950.000000    70.000000   87020.750000   110.000000      85.000000   \n",
       "max    32500.000000    80.000000  243000.000000   192.000000     283.000000   \n",
       "\n",
       "           Weight  Automatic_airco  Guarantee_Period  Powered_Windows  \n",
       "count  1436.00000      1436.000000       1436.000000      1436.000000  \n",
       "mean   1072.45961         0.056407          3.815460         0.561978  \n",
       "std      52.64112         0.230786          3.011025         0.496317  \n",
       "min    1000.00000         0.000000          3.000000         0.000000  \n",
       "25%    1040.00000         0.000000          3.000000         0.000000  \n",
       "50%    1070.00000         0.000000          3.000000         1.000000  \n",
       "75%    1085.00000         0.000000          3.000000         1.000000  \n",
       "max    1615.00000         1.000000         36.000000         1.000000  "
      ]
     },
     "execution_count": 4,
     "metadata": {},
     "output_type": "execute_result"
    }
   ],
   "source": [
    "corolla_new=corolla[['Price','Age_08_04','KM','HP','Quarterly_Tax','Weight','Automatic_airco','Guarantee_Period','Powered_Windows']].copy()\n",
    "corolla_new.head()\n",
    "\n",
    "summary=corolla_new.describe()\n",
    "summary"
   ]
  },
  {
   "cell_type": "code",
   "execution_count": 8,
   "metadata": {},
   "outputs": [],
   "source": [
    "from sklearn.model_selection import train_test_split\n",
    "train,test=train_test_split(corolla_new,test_size=0.3)"
   ]
  },
  {
   "cell_type": "code",
   "execution_count": 11,
   "metadata": {},
   "outputs": [
    {
     "data": {
      "text/plain": [
       "0.9573216111220972"
      ]
     },
     "execution_count": 11,
     "metadata": {},
     "output_type": "execute_result"
    }
   ],
   "source": [
    "\n",
    "###LASSO MODEL###\n",
    "from sklearn.linear_model import Lasso\n",
    "lasso=Lasso(alpha=0.01,normalize=True)\n",
    "lasso.fit(train.iloc[:,:],train.Price)\n",
    "\n",
    "#coefficient values for all independent variables#\n",
    "lasso.coef_\n",
    "lasso.intercept_ #0.9573216111220972"
   ]
  },
  {
   "cell_type": "code",
   "execution_count": 13,
   "metadata": {},
   "outputs": [
    {
     "data": {
      "text/plain": [
       "<BarContainer object of 9 artists>"
      ]
     },
     "execution_count": 13,
     "metadata": {},
     "output_type": "execute_result"
    },
    {
     "data": {
      "image/png": "[encoded data removed]",
      "text/plain": [
       "<Figure size 432x288 with 1 Axes>"
      ]
     },
     "metadata": {
      "needs_background": "light"
     },
     "output_type": "display_data"
    }
   ],
   "source": [
    "import matplotlib.pyplot as plt\n",
    "plt.bar(height=pd.Series(lasso.coef_),x=pd.Series(corolla_new.columns[:]))\n"
   ]
  },
  {
   "cell_type": "code",
   "execution_count": 14,
   "metadata": {},
   "outputs": [
    {
     "data": {
      "text/plain": [
       "array([ 6950.33207444,  8950.15214719, 12899.79679089, ...,\n",
       "        7750.26010354, 10949.97221995,  9750.0801763 ])"
      ]
     },
     "execution_count": 14,
     "metadata": {},
     "output_type": "execute_result"
    }
   ],
   "source": [
    "lasso.alpha\n",
    "pred_lasso=lasso.predict(train.iloc[:,:])\n",
    "pred_lasso\n"
   ]
  },
  {
   "cell_type": "code",
   "execution_count": 17,
   "metadata": {},
   "outputs": [
    {
     "data": {
      "text/plain": [
       "0.3170173496829315"
      ]
     },
     "execution_count": 17,
     "metadata": {},
     "output_type": "execute_result"
    }
   ],
   "source": [
    "#Adjusted r-square#\n",
    "lasso.score(train.iloc[:,:],train.Price) #0.9999999919065469\n",
    "#RMSE\n",
    "import numpy as np\n",
    "np.sqrt(np.mean((pred_lasso-train.Price)**2)) #0.3170173496829315"
   ]
  },
  {
   "cell_type": "code",
   "execution_count": 18,
   "metadata": {},
   "outputs": [
    {
     "name": "stderr",
     "output_type": "stream",
     "text": [
      "C:\\Users\\Rajesh\\Anaconda3\\lib\\site-packages\\ipykernel_launcher.py:8: UserWarning: With alpha=0, this algorithm does not converge well. You are advised to use the LinearRegression estimator\n",
      "  \n",
      "C:\\Users\\Rajesh\\Anaconda3\\lib\\site-packages\\sklearn\\linear_model\\coordinate_descent.py:475: UserWarning: Coordinate descent with no regularization may lead to unexpected results and is discouraged.\n",
      "  positive)\n"
     ]
    }
   ],
   "source": [
    "#running lasso regression of set of alpha values and observing how the r-squared,train_Rmse and test_rmse are changing with alpha values\n",
    "train_rmse = []\n",
    "test_rmse = []\n",
    "R_sqrd = []\n",
    "alphas = np.arange(0,30,0.05)\n",
    "for i in alphas:\n",
    "    LRM = Lasso(alpha = i,normalize=True,max_iter=500)\n",
    "    LRM.fit(train.iloc[:,:10],train.Price)\n",
    "    R_sqrd.append(LRM.score(train.iloc[:,:10],train.Price))\n",
    "    train_rmse.append(np.sqrt(np.mean((LRM.predict(train.iloc[:,:10]) - train.Price)**2)))\n",
    "    test_rmse.append(np.sqrt(np.mean((LRM.predict(test.iloc[:,:10]) - test.Price)**2)))\n",
    "    "
   ]
  },
  {
   "cell_type": "code",
   "execution_count": 19,
   "metadata": {},
   "outputs": [
    {
     "data": {
      "text/plain": [
       "Text(0, 0.5, 'test_rmse')"
      ]
     },
     "execution_count": 19,
     "metadata": {},
     "output_type": "execute_result"
    },
    {
     "data": {
      "image/png": "[encoded data removed]",
      "text/plain": [
       "<Figure size 432x288 with 1 Axes>"
      ]
     },
     "metadata": {
      "needs_background": "light"
     },
     "output_type": "display_data"
    }
   ],
   "source": [
    "\n",
    "# Alpha vs R_Squared values\n",
    "plt.scatter(x=alphas,y=R_sqrd);plt.xlabel(\"alpha\");plt.ylabel(\"R_Squared\")\n",
    "\n",
    "# Alpha vs train rmse\n",
    "plt.scatter(x=alphas,y=train_rmse);plt.xlabel(\"alpha\");plt.ylabel(\"train_rmse\")\n",
    "\n",
    "# Alpha vs test rmse\n",
    "plt.scatter(x=alphas,y=test_rmse);plt.xlabel(\"alpha\");plt.ylabel(\"test_rmse\")"
   ]
  },
  {
   "cell_type": "code",
   "execution_count": 22,
   "metadata": {},
   "outputs": [
    {
     "data": {
      "text/plain": [
       "1076.9932442550762"
      ]
     },
     "execution_count": 22,
     "metadata": {},
     "output_type": "execute_result"
    }
   ],
   "source": [
    "#Ridge regression\n",
    "from sklearn.linear_model import Ridge\n",
    "rm=Ridge(alpha=0.4,normalize=True)\n",
    "rm.fit(train.iloc[:,:],train.Price)\n",
    "\n",
    "#coefficients values for all the independent vairbales#\n",
    "rm.coef_\n",
    "rm.intercept_ #1076.9932442550762"
   ]
  },
  {
   "cell_type": "code",
   "execution_count": 24,
   "metadata": {},
   "outputs": [
    {
     "data": {
      "text/plain": [
       "0.4"
      ]
     },
     "execution_count": 24,
     "metadata": {},
     "output_type": "execute_result"
    },
    {
     "data": {
      "image/png": "[encoded data removed]",
      "text/plain": [
       "<Figure size 432x288 with 1 Axes>"
      ]
     },
     "metadata": {
      "needs_background": "light"
     },
     "output_type": "display_data"
    }
   ],
   "source": [
    "plt.bar(height=pd.Series(rm.coef_),x=pd.Series(corolla_new.columns[:]))\n",
    "rm.alpha\n"
   ]
  },
  {
   "cell_type": "code",
   "execution_count": 25,
   "metadata": {},
   "outputs": [
    {
     "data": {
      "text/plain": [
       "array([ 8052.67612124,  8359.22649035, 12265.41452465, ...,\n",
       "        8223.61990869, 11000.50540269, 11247.85374136])"
      ]
     },
     "execution_count": 25,
     "metadata": {},
     "output_type": "execute_result"
    }
   ],
   "source": [
    "pred_rm=rm.predict(train.iloc[:,:])\n",
    "pred_rm"
   ]
  },
  {
   "cell_type": "code",
   "execution_count": 28,
   "metadata": {},
   "outputs": [
    {
     "data": {
      "text/plain": [
       "813.0618413939305"
      ]
     },
     "execution_count": 28,
     "metadata": {},
     "output_type": "execute_result"
    }
   ],
   "source": [
    "#adjusted r-square\n",
    "rm.score(train.iloc[:,:],train.Price) #0.9467628299452738\n",
    "np.sqrt(np.mean((pred_rm-train.Price)**2)) #813.0618413939305"
   ]
  },
  {
   "cell_type": "code",
   "execution_count": 29,
   "metadata": {},
   "outputs": [],
   "source": [
    "### Running a Ridge Regressor of set of alpha values and observing how the R-Squared, train_rmse and test_rmse are changing with change in alpha values\n",
    "train_rmse = []\n",
    "test_rmse = []\n",
    "R_sqrd = []\n",
    "alphas = np.arange(0,100,0.05)\n",
    "for i in alphas:\n",
    "    RM = Ridge(alpha = i,normalize=True)\n",
    "    RM.fit(train.iloc[:,:10],train.Price)\n",
    "    R_sqrd.append(RM.score(train.iloc[:,:10],train.Price))\n",
    "    train_rmse.append(np.sqrt(np.mean((RM.predict(train.iloc[:,:10]) - train.Price)**2)))\n",
    "    test_rmse.append(np.sqrt(np.mean((RM.predict(test.iloc[:,:10]) - test.Price)**2)))"
   ]
  },
  {
   "cell_type": "code",
   "execution_count": 30,
   "metadata": {},
   "outputs": [
    {
     "data": {
      "text/plain": [
       "Text(0, 0.5, 'test_rmse')"
      ]
     },
     "execution_count": 30,
     "metadata": {},
     "output_type": "execute_result"
    },
    {
     "data": {
      "image/png": "[encoded data removed]",
      "text/plain": [
       "<Figure size 432x288 with 1 Axes>"
      ]
     },
     "metadata": {
      "needs_background": "light"
     },
     "output_type": "display_data"
    }
   ],
   "source": [
    "### Plotting train_rmse,test_rmse,R_Squared values with respect to alpha values\n",
    "\n",
    "\n",
    "# Alpha vs R_Squared values\n",
    "plt.scatter(x=alphas,y=R_sqrd);plt.xlabel(\"alpha\");plt.ylabel(\"R_Squared\")\n",
    "\n",
    "# Alpha vs train rmse\n",
    "plt.scatter(x=alphas,y=train_rmse);plt.xlabel(\"alpha\");plt.ylabel(\"train_rmse\")\n",
    "\n",
    "# Alpha vs test rmse\n",
    "plt.scatter(x=alphas,y=test_rmse);plt.xlabel(\"alpha\");plt.ylabel(\"test_rmse\")\n"
   ]
  }
 ],
 "metadata": {
  "kernelspec": {
   "display_name": "Python 3",
   "language": "python",
   "name": "python3"
  },
  "language_info": {
   "codemirror_mode": {
    "name": "ipython",
    "version": 3
   },
   "file_extension": ".py",
   "mimetype": "text/x-python",
   "name": "python",
   "nbconvert_exporter": "python",
   "pygments_lexer": "ipython3",
   "version": "3.7.4"
  }
 },
 "nbformat": 4,
 "nbformat_minor": 4
}
